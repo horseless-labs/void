{
 "cells": [
  {
   "cell_type": "markdown",
   "id": "5e8b2e2d",
   "metadata": {},
   "source": [
    "Importing the Three Amigos."
   ]
  },
  {
   "cell_type": "code",
   "execution_count": 4,
   "id": "2e7cfbbb",
   "metadata": {},
   "outputs": [],
   "source": [
    "import numpy\n",
    "import matplotlib.pyplot as plt\n",
    "import pandas as pd"
   ]
  },
  {
   "cell_type": "code",
   "execution_count": 2,
   "id": "491b7da5",
   "metadata": {},
   "outputs": [],
   "source": [
    "df = pd.read_csv(\"blog_archive/blogtext.csv\")"
   ]
  },
  {
   "cell_type": "code",
   "execution_count": 3,
   "id": "fcf7e280",
   "metadata": {},
   "outputs": [
    {
     "data": {
      "text/plain": [
       "['id', 'gender', 'age', 'topic', 'sign', 'date', 'text']"
      ]
     },
     "execution_count": 3,
     "metadata": {},
     "output_type": "execute_result"
    }
   ],
   "source": [
    "column_names = df.columns.tolist()\n",
    "column_names"
   ]
  },
  {
   "cell_type": "code",
   "execution_count": null,
   "id": "420114e6",
   "metadata": {},
   "outputs": [],
   "source": []
  },
  {
   "cell_type": "code",
   "execution_count": null,
   "id": "dab669c5",
   "metadata": {},
   "outputs": [],
   "source": [
    "\n",
    "\n",
    "topic_counts = df['topic'].value_counts()\n",
    "\n",
    "plt.figure(figsize=(10, 6))\n",
    "topic_counts.plot(kind='bar', color='skyblue')\n",
    "plt.title(\"Counts of Each Topic\")\n",
    "plt.xlabel(\"Topic\")\n",
    "plt.ylabel(\"Count\")\n",
    "plt.xticks(rotation=45, ha='right')\n",
    "plt.tight_layout()\n",
    "plt.show()"
   ]
  },
  {
   "cell_type": "code",
   "execution_count": null,
   "id": "47b77ea2",
   "metadata": {},
   "outputs": [],
   "source": []
  }
 ],
 "metadata": {
  "kernelspec": {
   "display_name": "Python 3 (ipykernel)",
   "language": "python",
   "name": "python3"
  },
  "language_info": {
   "codemirror_mode": {
    "name": "ipython",
    "version": 3
   },
   "file_extension": ".py",
   "mimetype": "text/x-python",
   "name": "python",
   "nbconvert_exporter": "python",
   "pygments_lexer": "ipython3",
   "version": "3.10.12"
  }
 },
 "nbformat": 4,
 "nbformat_minor": 5
}
